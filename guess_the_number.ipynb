{
 "cells": [
  {
   "cell_type": "markdown",
   "id": "a94e96e2-2780-4d31-bfad-31676f77b631",
   "metadata": {},
   "source": [
    "# Guess The Number Game"
   ]
  },
  {
   "cell_type": "code",
   "execution_count": 12,
   "id": "8bde23ca-4c48-4f74-a820-6345b23f5ff3",
   "metadata": {},
   "outputs": [
    {
     "name": "stdin",
     "output_type": "stream",
     "text": [
      "Enter the upper bound for the number (e.g., 100):  20\n"
     ]
    },
    {
     "name": "stdout",
     "output_type": "stream",
     "text": [
      "I'm thinking of a number between 1 and 20. Can you guess what it is?\n"
     ]
    },
    {
     "name": "stdin",
     "output_type": "stream",
     "text": [
      "Enter your guess:  5\n"
     ]
    },
    {
     "name": "stdout",
     "output_type": "stream",
     "text": [
      "The number is higher. Try again.\n"
     ]
    },
    {
     "name": "stdin",
     "output_type": "stream",
     "text": [
      "Enter your guess:  10\n"
     ]
    },
    {
     "name": "stdout",
     "output_type": "stream",
     "text": [
      "The number is higher. Try again.\n"
     ]
    },
    {
     "name": "stdin",
     "output_type": "stream",
     "text": [
      "Enter your guess:  15\n"
     ]
    },
    {
     "name": "stdout",
     "output_type": "stream",
     "text": [
      "The number is lower. Try again.\n"
     ]
    },
    {
     "name": "stdin",
     "output_type": "stream",
     "text": [
      "Enter your guess:  12\n"
     ]
    },
    {
     "name": "stdout",
     "output_type": "stream",
     "text": [
      "The number is lower. Try again.\n"
     ]
    },
    {
     "name": "stdin",
     "output_type": "stream",
     "text": [
      "Enter your guess:  11\n"
     ]
    },
    {
     "name": "stdout",
     "output_type": "stream",
     "text": [
      "Congrats!!! You got it. The number was 11 .\n",
      "You took 5 attempts to guess the number.\n"
     ]
    }
   ],
   "source": [
    "import random\n",
    "\n",
    "def guess_number(upper_bound):\n",
    "    # Generate a random number between 1 and upper_bound (inclusive)\n",
    "    secret_number = random.randint(1, upper_bound)\n",
    "    attempts = 0\n",
    "    \n",
    "    print(f\"I'm thinking of a number between 1 and {upper_bound}. Can you guess what it is?\")\n",
    "    \n",
    "    while True:\n",
    "      \n",
    "            guess = int(input(\"Enter your guess: \"))\n",
    "            attempts += 1\n",
    "            \n",
    "            if guess == secret_number:\n",
    "                print(\"Congrats!!! You got it. The number was\" , secret_number,\".\")\n",
    "                print(\"You took\" , attempts , \"attempts to guess the number.\")\n",
    "                break\n",
    "            elif guess < secret_number:\n",
    "                print(\"The number is higher. Try again.\")\n",
    "            else:\n",
    "                print(\"The number is lower. Try again.\")\n",
    "    \n",
    "\n",
    "if __name__ == \"__main__\":\n",
    "    upper_bound = int(input(\"Enter the upper bound for the number (e.g., 100): \"))\n",
    "    guess_number(upper_bound)"
   ]
  },
  {
   "cell_type": "code",
   "execution_count": null,
   "id": "5b9677b3-26ee-46c0-876a-b947016e0320",
   "metadata": {},
   "outputs": [],
   "source": []
  }
 ],
 "metadata": {
  "kernelspec": {
   "display_name": "Python 3 (ipykernel)",
   "language": "python",
   "name": "python3"
  },
  "language_info": {
   "codemirror_mode": {
    "name": "ipython",
    "version": 3
   },
   "file_extension": ".py",
   "mimetype": "text/x-python",
   "name": "python",
   "nbconvert_exporter": "python",
   "pygments_lexer": "ipython3",
   "version": "3.11.7"
  }
 },
 "nbformat": 4,
 "nbformat_minor": 5
}
