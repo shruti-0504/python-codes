{
 "cells": [
  {
   "cell_type": "markdown",
   "id": "28215352-11cb-4a9b-9f73-5b66548ace82",
   "metadata": {},
   "source": [
    "# Checking if number is prime "
   ]
  },
  {
   "cell_type": "code",
   "execution_count": 1,
   "id": "0e6aee90-f171-4d6a-9886-656694297c63",
   "metadata": {},
   "outputs": [
    {
     "name": "stdin",
     "output_type": "stream",
     "text": [
      "Enter a number:  5\n"
     ]
    },
    {
     "name": "stdout",
     "output_type": "stream",
     "text": [
      "5 is a prime number.\n"
     ]
    }
   ],
   "source": [
    "def is_prime(num):\n",
    "\n",
    "  if num <= 1:\n",
    "    return False\n",
    "  for i in range(2, int(num//2) + 1):\n",
    "    if num % i == 0:\n",
    "      return False\n",
    "  return True\n",
    "\n",
    "num = int(input(\"Enter a number: \"))\n",
    "\n",
    "if is_prime(num):\n",
    "  print(num, \"is a prime number.\")\n",
    "else:\n",
    "  print(num, \"is not a prime number.\")"
   ]
  },
  {
   "cell_type": "code",
   "execution_count": null,
   "id": "955f74ea-fb5b-4d00-b9c2-a331ee5e27d3",
   "metadata": {},
   "outputs": [],
   "source": []
  }
 ],
 "metadata": {
  "kernelspec": {
   "display_name": "Python 3 (ipykernel)",
   "language": "python",
   "name": "python3"
  },
  "language_info": {
   "codemirror_mode": {
    "name": "ipython",
    "version": 3
   },
   "file_extension": ".py",
   "mimetype": "text/x-python",
   "name": "python",
   "nbconvert_exporter": "python",
   "pygments_lexer": "ipython3",
   "version": "3.11.7"
  }
 },
 "nbformat": 4,
 "nbformat_minor": 5
}
