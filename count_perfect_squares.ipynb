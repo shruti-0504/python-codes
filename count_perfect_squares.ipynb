{
 "cells": [
  {
   "cell_type": "markdown",
   "id": "189d4bca-75dd-4689-9258-565f24aed762",
   "metadata": {},
   "source": [
    "# count perfect squares"
   ]
  },
  {
   "cell_type": "code",
   "execution_count": 33,
   "id": "20388901-b4b3-4f3d-aca5-768f77761a6d",
   "metadata": {},
   "outputs": [
    {
     "name": "stdin",
     "output_type": "stream",
     "text": [
      "Enter the start of the range:  5\n",
      "Enter the end of the range:  9\n"
     ]
    },
    {
     "name": "stdout",
     "output_type": "stream",
     "text": [
      "Number of perfect squares between 5 and 9 are :  1\n"
     ]
    }
   ],
   "source": [
    "def count_perfect_squares(start, end):\n",
    "    count = 0\n",
    "    i = 1\n",
    "    while i * i <= end:\n",
    "        if i * i >= start:\n",
    "            count += 1\n",
    "        i += 1\n",
    "    return count\n",
    "\n",
    "# Taking input from the user\n",
    "start = int(input(\"Enter the start of the range: \"))\n",
    "end = int(input(\"Enter the end of the range: \"))\n",
    "\n",
    "# Counting perfect squares in the range\n",
    "perfect_square_count = count_perfect_squares(start, end)\n",
    "\n",
    "# printing the result\n",
    "print(\"Number of perfect squares between\", start, \"and\", end, \"are : \" , perfect_square_count)"
   ]
  },
  {
   "cell_type": "code",
   "execution_count": null,
   "id": "dda43b72-c2d2-4e3e-b278-e53a43c45bb2",
   "metadata": {},
   "outputs": [],
   "source": []
  }
 ],
 "metadata": {
  "kernelspec": {
   "display_name": "Python 3 (ipykernel)",
   "language": "python",
   "name": "python3"
  },
  "language_info": {
   "codemirror_mode": {
    "name": "ipython",
    "version": 3
   },
   "file_extension": ".py",
   "mimetype": "text/x-python",
   "name": "python",
   "nbconvert_exporter": "python",
   "pygments_lexer": "ipython3",
   "version": "3.11.7"
  }
 },
 "nbformat": 4,
 "nbformat_minor": 5
}
