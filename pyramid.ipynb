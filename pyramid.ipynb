{
 "cells": [
  {
   "cell_type": "markdown",
   "id": "5e6b30e7-179d-4db2-88aa-4e1f2eedacb1",
   "metadata": {},
   "source": [
    "# pyramid"
   ]
  },
  {
   "cell_type": "code",
   "execution_count": 6,
   "id": "cf712c36-f385-448e-9109-a120c15d30d0",
   "metadata": {},
   "outputs": [
    {
     "name": "stdout",
     "output_type": "stream",
     "text": [
      "*\n",
      "**\n",
      "***\n",
      "****\n",
      "*****\n",
      "****\n",
      "***\n",
      "**\n",
      "*\n"
     ]
    }
   ],
   "source": [
    "rows = 5\n",
    "\n",
    "# Generate the top half of the pattern\n",
    "for i in range(1,rows + 1):\n",
    "    for j in range(1,i + 1):\n",
    "        print(\"*\", end=\"\")\n",
    "    print()\n",
    "\n",
    "# Generate the bottom half of the pattern\n",
    "for i in range(rows - 1, 0, -1):\n",
    "    for j in range(1, i + 1):\n",
    "        print(\"*\", end=\"\")\n",
    "    print()"
   ]
  },
  {
   "cell_type": "code",
   "execution_count": null,
   "id": "33b1390f-097d-44cc-aa84-fd20adab5fc0",
   "metadata": {},
   "outputs": [],
   "source": []
  }
 ],
 "metadata": {
  "kernelspec": {
   "display_name": "Python 3 (ipykernel)",
   "language": "python",
   "name": "python3"
  },
  "language_info": {
   "codemirror_mode": {
    "name": "ipython",
    "version": 3
   },
   "file_extension": ".py",
   "mimetype": "text/x-python",
   "name": "python",
   "nbconvert_exporter": "python",
   "pygments_lexer": "ipython3",
   "version": "3.11.7"
  }
 },
 "nbformat": 4,
 "nbformat_minor": 5
}
